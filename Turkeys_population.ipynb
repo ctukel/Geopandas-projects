{
 "cells": [
  {
   "cell_type": "markdown",
   "metadata": {},
   "source": [
    "# Population of Turkey's provinces and Izmir's town\n",
    "In this projest, population of 81 province in Turkey will be shown as Turkey's map. Chlorap will be used.\n",
    "Similarly population of İzmir's towns will be shown.\n",
    "- Population of each province will be taken from excel file.\n",
    "- populations will be inserted into Turkey's geodataframe from Turkeys province shape file.\n",
    "- Province names and populations will be placed on the map"
   ]
  },
  {
   "cell_type": "code",
   "execution_count": null,
   "metadata": {},
   "outputs": [],
   "source": []
  }
 ],
 "metadata": {
  "kernelspec": {
   "display_name": "Python 3",
   "language": "python",
   "name": "python3"
  },
  "language_info": {
   "codemirror_mode": {
    "name": "ipython",
    "version": 3
   },
   "file_extension": ".py",
   "mimetype": "text/x-python",
   "name": "python",
   "nbconvert_exporter": "python",
   "pygments_lexer": "ipython3",
   "version": "3.6.5"
  }
 },
 "nbformat": 4,
 "nbformat_minor": 2
}
